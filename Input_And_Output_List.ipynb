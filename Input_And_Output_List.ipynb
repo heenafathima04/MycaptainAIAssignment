{
  "nbformat": 4,
  "nbformat_minor": 0,
  "metadata": {
    "colab": {
      "provenance": [],
      "authorship_tag": "ABX9TyOa10xsj0M+SYbjQOeBdSx3",
      "include_colab_link": true
    },
    "kernelspec": {
      "name": "python3",
      "display_name": "Python 3"
    },
    "language_info": {
      "name": "python"
    }
  },
  "cells": [
    {
      "cell_type": "markdown",
      "metadata": {
        "id": "view-in-github",
        "colab_type": "text"
      },
      "source": [
        "<a href=\"https://colab.research.google.com/github/heenafathima04/MycaptainAIAssignment/blob/main/Input_And_Output_List.ipynb\" target=\"_parent\"><img src=\"https://colab.research.google.com/assets/colab-badge.svg\" alt=\"Open In Colab\"/></a>"
      ]
    },
    {
      "cell_type": "code",
      "execution_count": 4,
      "metadata": {
        "colab": {
          "base_uri": "https://localhost:8080/"
        },
        "id": "dknZnqrMmo_8",
        "outputId": "8d079975-e5a6-4c8c-fd07-17cc30d78e35"
      },
      "outputs": [
        {
          "output_type": "stream",
          "name": "stdout",
          "text": [
            "Filtered list (only non-negative numbers): [12, 5, 64]\n"
          ]
        }
      ],
      "source": [
        "# Input list\n",
        "input_list = [12, -7, 5, 64, -14]\n",
        "\n",
        "# Filter out negative numbers\n",
        "filtered_list = [num for num in input_list if num >= 0]\n",
        "\n",
        "print(\"Filtered list (only non-negative numbers):\", filtered_list)"
      ]
    },
    {
      "cell_type": "code",
      "source": [
        "# Input list\n",
        "input_list = [12, 14, -95, 3]\n",
        "\n",
        "#Filter out negative numbers\n",
        "filtered_list = [ num for num in input_list if num >= 0]\n",
        "\n",
        "print(\"Filtered list (only non-negative numbers):\", filtered_list)\n"
      ],
      "metadata": {
        "colab": {
          "base_uri": "https://localhost:8080/"
        },
        "id": "ae0_z7xjm7Et",
        "outputId": "149adca5-7624-4c18-d64c-b500631e468a"
      },
      "execution_count": 6,
      "outputs": [
        {
          "output_type": "stream",
          "name": "stdout",
          "text": [
            "Filtered list (only non-negative numbers): [12, 14, 3]\n"
          ]
        }
      ]
    }
  ]
}