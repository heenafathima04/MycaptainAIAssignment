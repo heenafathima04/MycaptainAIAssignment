{
  "nbformat": 4,
  "nbformat_minor": 0,
  "metadata": {
    "colab": {
      "provenance": [],
      "authorship_tag": "ABX9TyMVrKwFmT0p/8CqspdWBaVk",
      "include_colab_link": true
    },
    "kernelspec": {
      "name": "python3",
      "display_name": "Python 3"
    },
    "language_info": {
      "name": "python"
    }
  },
  "cells": [
    {
      "cell_type": "markdown",
      "metadata": {
        "id": "view-in-github",
        "colab_type": "text"
      },
      "source": [
        "<a href=\"https://colab.research.google.com/github/heenafathima04/MycaptainAIAssignment/blob/main/Python_Refresher_Oct_2024.ipynb\" target=\"_parent\"><img src=\"https://colab.research.google.com/assets/colab-badge.svg\" alt=\"Open In Colab\"/></a>"
      ]
    },
    {
      "cell_type": "code",
      "execution_count": 1,
      "metadata": {
        "colab": {
          "base_uri": "https://localhost:8080/",
          "height": 106
        },
        "id": "BQCZ7YX9se-r",
        "outputId": "1bc16e7d-bcb5-4d4d-c37f-7c804a234561"
      },
      "outputs": [
        {
          "output_type": "error",
          "ename": "SyntaxError",
          "evalue": "invalid syntax (<ipython-input-1-2fe9910305fc>, line 1)",
          "traceback": [
            "\u001b[0;36m  File \u001b[0;32m\"<ipython-input-1-2fe9910305fc>\"\u001b[0;36m, line \u001b[0;32m1\u001b[0m\n\u001b[0;31m    c x=10\u001b[0m\n\u001b[0m      ^\u001b[0m\n\u001b[0;31mSyntaxError\u001b[0m\u001b[0;31m:\u001b[0m invalid syntax\n"
          ]
        }
      ],
      "source": [
        "c x=10\n",
        " y=10.5\n",
        " x"
      ]
    },
    {
      "cell_type": "code",
      "source": [
        "input_value= input(\n",
        "    55\n",
        ")\n",
        "#Task: Get value between 2 to 8 from user and add 1 to it\n"
      ],
      "metadata": {
        "id": "1vzoKzkozaJj"
      },
      "execution_count": null,
      "outputs": []
    },
    {
      "cell_type": "code",
      "source": [
        " input_value=int(input('Give values between 2 adnd'))"
      ],
      "metadata": {
        "id": "57D00LWFj0aW"
      },
      "execution_count": null,
      "outputs": []
    },
    {
      "cell_type": "code",
      "source": [],
      "metadata": {
        "id": "YuMKSFrWktO8"
      },
      "execution_count": null,
      "outputs": []
    }
  ]
}