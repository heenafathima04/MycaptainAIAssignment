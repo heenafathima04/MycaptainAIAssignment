{
  "nbformat": 4,
  "nbformat_minor": 0,
  "metadata": {
    "colab": {
      "provenance": [],
      "authorship_tag": "ABX9TyOUYorR6EUa0vQCaYdQHH3e",
      "include_colab_link": true
    },
    "kernelspec": {
      "name": "python3",
      "display_name": "Python 3"
    },
    "language_info": {
      "name": "python"
    }
  },
  "cells": [
    {
      "cell_type": "markdown",
      "metadata": {
        "id": "view-in-github",
        "colab_type": "text"
      },
      "source": [
        "<a href=\"https://colab.research.google.com/github/heenafathima04/MycaptainAIAssignment/blob/main/Output_code.ipynb\" target=\"_parent\"><img src=\"https://colab.research.google.com/assets/colab-badge.svg\" alt=\"Open In Colab\"/></a>"
      ]
    },
    {
      "cell_type": "code",
      "execution_count": 2,
      "metadata": {
        "colab": {
          "base_uri": "https://localhost:8080/"
        },
        "id": "ZW3LxzfqqTP-",
        "outputId": "f52581c1-f97b-4df0-ff0e-6d14cc5e77f6"
      },
      "outputs": [
        {
          "output_type": "stream",
          "name": "stdout",
          "text": [
            "Union of E and N: {0, 1, 2, 3, 4, 5, 6, 8}\n",
            "Intersection of E and N: {2, 4}\n",
            "Difference of E and N: {0, 8, 6}\n",
            "Symmetric difference of E and N: {0, 1, 3, 5, 6, 8}\n"
          ]
        }
      ],
      "source": [
        "# Define the sets based on the provided information\n",
        "E = {0, 2, 4, 6, 8}  # Even numbers\n",
        "N = {1, 2, 3, 4, 5}  # Natural numbers\n",
        "\n",
        "# Calculate union, intersection, difference, and symmetric difference\n",
        "union_E_N = E.union(N)  # E ∪ N\n",
        "intersection_E_N = E.intersection(N)  # E ∩ N\n",
        "difference_E_N = E.difference(N)  # E - N\n",
        "symmetric_difference_E_N = E.symmetric_difference(N)  # E Δ N\n",
        "\n",
        "# Output the results\n",
        "print(f\"Union of E and N: {union_E_N}\")\n",
        "print(f\"Intersection of E and N: {intersection_E_N}\")\n",
        "print(f\"Difference of E and N: {difference_E_N}\")\n",
        "print(f\"Symmetric difference of E and N: {symmetric_difference_E_N}\")"
      ]
    }
  ]
}